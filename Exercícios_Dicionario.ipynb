{
  "nbformat": 4,
  "nbformat_minor": 0,
  "metadata": {
    "colab": {
      "provenance": [],
      "authorship_tag": "ABX9TyNCmkpzuPtwa0vvgyn4azVj",
      "include_colab_link": true
    },
    "kernelspec": {
      "name": "python3",
      "display_name": "Python 3"
    },
    "language_info": {
      "name": "python"
    }
  },
  "cells": [
    {
      "cell_type": "markdown",
      "metadata": {
        "id": "view-in-github",
        "colab_type": "text"
      },
      "source": [
        "<a href=\"https://colab.research.google.com/github/VictorMMontanari/Exerc-cios_Dicionario/blob/main/Exerc%C3%ADcios_Dicionario.ipynb\" target=\"_parent\"><img src=\"https://colab.research.google.com/assets/colab-badge.svg\" alt=\"Open In Colab\"/></a>"
      ]
    },
    {
      "cell_type": "code",
      "execution_count": null,
      "metadata": {
        "id": "NzoM0GYbi2s7"
      },
      "outputs": [],
      "source": [
        "#1. Crie um dicionário com as notas de um aluno em três disciplinas. Peça ao usuário para informar o\n",
        "# nome do aluno e as notas em cada disciplina, e imprima a média das notas na tela.\n",
        "import json\n",
        "\n",
        "nome_aluno = input(\"Digite o nome do aluno: \")\n",
        "\n",
        "notas_matematica = tuple(float(input(f\"Nota {i}° Matemática: \")) for i in range(1,4))\n",
        "notas_portugues = tuple(float(input(f\"Nota {i}° Português: \")) for i in range(1,4))\n",
        "notas_historia = tuple(float(input(f\"Nota {i}° História: \")) for i in range(1,4))\n",
        "\n",
        "media_matematica = sum(notas_matematica) / len(notas_matematica)\n",
        "media_portugues = sum(notas_portugues) / len(notas_portugues)\n",
        "media_historia = sum(notas_historia) / len(notas_historia)\n",
        "\n",
        "aluno = {\n",
        "    \"nome\": nome_aluno,\n",
        "    \"Notas_matematica\": notas_matematica,\n",
        "    \"Media_matematica\": media_matematica,\n",
        "    \"Notas_Portugues\": notas_portugues,\n",
        "    \"Media_Portugues\": media_portugues,\n",
        "    \"Notas_historia\": notas_historia,\n",
        "    \"Media_historia\": media_historia\n",
        "}\n",
        "\n",
        "print(json.dumps({nome_aluno: aluno}, indent=4))"
      ]
    },
    {
      "cell_type": "code",
      "source": [
        "# 1 - Questão 1 sem json.\n",
        "\n",
        "aluno = input(\"Digite o nome do aluno: \")\n",
        "\n",
        "notas = {}\n",
        "notas_matematica = tuple(float(input(f\"Nota {i}° Matemática: \")) for i in range(1,4))\n",
        "notas_portugues = tuple(float(input(f\"Nota {i}° Português: \")) for i in range(1,4))\n",
        "notas_historia = tuple(float(input(f\"Nota {i}° História: \")) for i in range(1,4))\n",
        "\n",
        "notas = {\n",
        "    \"Matemática\": notas_matematica,\n",
        "    \"Português\": notas_portugues,\n",
        "    \"História\": notas_historia,\n",
        "}\n",
        "\n",
        "for materia, tupla_notas in notas.items():\n",
        "    media = sum(tupla_notas) / len(tupla_notas)\n",
        "    notas[materia] = (tupla_notas, media)\n",
        "\n",
        "notas_aluno = {\"Aluno\": {\"nome\": aluno, \"notas\": notas}}\n",
        "\n",
        "notas_aluno"
      ],
      "metadata": {
        "id": "Tw0gQcbPYth3"
      },
      "execution_count": null,
      "outputs": []
    },
    {
      "cell_type": "code",
      "source": [
        "# 2. Crie um dicionário que represente uma lista de tarefas a fazer. Cada tarefa deve ter uma descrição\n",
        "# e uma prioridade (baixa, média ou alta). Peça ao usuário para informar a descrição e a prioridade\n",
        "# de uma nova tarefa e adicione-a ao dicionário.\n",
        "\n",
        "tarefas={\n",
        "    1:{\"Descrição\": \"Estudar\",\"Prioridade\": \"Alta\"},\n",
        "    2:{\"Descrição\": \"Lavar Roupa\",\"Prioridade\": \"Media\"},\n",
        "    3:{\"Descrição\": \"Limpar Moveis\",\"Prioridade\": \"baixa\"}\n",
        "}\n",
        "\n",
        "quantidade=int(input(\"Informe a quantidade de tarefaz que deseja adicionar:\"))\n",
        "\n",
        "print(f\"Você adiconou mais {quantidade} tarefas\")\n",
        "\n",
        "for i in range(len(tarefas) + 1, len(tarefas) + quantidade + 1):\n",
        "  descricao = input(f\"Digite a descrição da nova tarefa {i}: \")\n",
        "  prioridade = input(f\"Digite a prioridade da nova tarefa (baixa, média ou alta) {i}: \")\n",
        "  tarefas[i] = {\"Descrição\": descricao, \"Prioridade\": prioridade}\n",
        "\n",
        "tarefas"
      ],
      "metadata": {
        "id": "iQez6m6FY3V_"
      },
      "execution_count": null,
      "outputs": []
    },
    {
      "cell_type": "code",
      "source": [
        "# 2. Sem for\n",
        "tarefas={\n",
        "    1:{\"Descrição\": \"Estudar\",\"Prioridade\": \"Alta\"},\n",
        "    2:{\"Descrição\": \"Lavar Roupa\",\"Prioridade\": \"Media\"},\n",
        "    3:{\"Descrição\": \"Limpar Moveis\",\"Prioridade\": \"baixa\"}\n",
        "}\n",
        "\n",
        "descricao = input(\"Digite a descrição da nova tarefa: \")\n",
        "prioridade = input(\"Digite a prioridade da nova tarefa (baixa, média ou alta): \")\n",
        "\n",
        "id_tarefa = len(tarefas) + 1\n",
        "tarefas[id_tarefa] = {\"descrição\": descricao, \"prioridade\": prioridade}\n",
        "\n",
        "tarefas"
      ],
      "metadata": {
        "id": "uqky80EyAPW6"
      },
      "execution_count": null,
      "outputs": []
    },
    {
      "cell_type": "code",
      "source": [
        "# 3. Crie um dicionário com o nome e a idade de três pessoas. Imprima na tela o nome e a idade da\n",
        "# pessoa mais velha.\n",
        "pessoas={\n",
        "    1:{\"Nome\": \"Victor\",\"Idade\": 27},\n",
        "    2:{\"Nome\": \"Bia\",\"Idade\": 20},\n",
        "    3:{\"Nome\": \"Nath\",\"Idade\": 23}\n",
        "}\n",
        "\n",
        "maior_idade = max(pessoas.values(), key=lambda x: x[\"Idade\"])\n",
        "nome = maior_idade[\"Nome\"]\n",
        "idade = maior_idade[\"Idade\"]\n",
        "\n",
        "pessoa={\"Nome\": nome, \"Idade\": idade}\n",
        "\n",
        "pessoa"
      ],
      "metadata": {
        "id": "5HHDMUNIAtrJ"
      },
      "execution_count": null,
      "outputs": []
    },
    {
      "cell_type": "code",
      "source": [
        "# 3 - Sem usar Max\n",
        "pessoas = {\n",
        "    1:{\"Nome\": \"Victor\", \"Idade\": 27},\n",
        "    2:{\"Nome\": \"Bia\", \"Idade\": 20},\n",
        "    3:{\"Nome\": \"Nath\", \"Idade\": 23}\n",
        "}\n",
        "\n",
        "idade = 0\n",
        "nome = \"\"\n",
        "\n",
        "for chave, valor in pessoas.items():\n",
        "    if valor[\"Idade\"] > idade:\n",
        "        idade = valor[\"Idade\"]\n",
        "        nome = valor[\"Nome\"]\n",
        "\n",
        "pessoa={\"Nome\": nome, \"Idade\": idade}\n",
        "\n",
        "pessoa"
      ],
      "metadata": {
        "id": "6anjm1ACFGK1"
      },
      "execution_count": null,
      "outputs": []
    },
    {
      "cell_type": "code",
      "source": [
        "# 4. Crie um dicionário com o nome e a data de nascimento de três pessoas. Em seguida, calcule e\n",
        "# imprima na tela a idade de cada uma delas.\n",
        "from datetime import datetime\n",
        "\n",
        "pessoas = {\n",
        "    1:{\"Nome\": \"Victor\", \"Data_Nascimento\": \"06/10/1995\"},\n",
        "    2:{\"Nome\": \"Bia\", \"Data_Nascimento\": \"20/12/2003\"},\n",
        "    3:{\"Nome\": \"Nath\", \"Data_Nascimento\": \"11/06/2000\"}\n",
        "}\n",
        "\n",
        "nome = \"\"\n",
        "idade = 0\n",
        "\n",
        "for i in pessoas.values():\n",
        "    data_nascimento = datetime.strptime(i[\"Data_Nascimento\"], \"%d/%m/%Y\")\n",
        "    idade = datetime.now().year - data_nascimento.year\n",
        "    i[\"Idade\"] = idade\n",
        "\n",
        "pessoas"
      ],
      "metadata": {
        "id": "J3rxFsNbFJp0"
      },
      "execution_count": null,
      "outputs": []
    },
    {
      "cell_type": "code",
      "source": [
        "# 5. Crie um dicionário que represente uma lista de compras de supermercado. Cada item da lista deve\n",
        "# ter um nome e um preço. Peça ao usuário para informar um novo item e o seu preço, e adicione-o\n",
        "# ao dicionário. Em seguida, imprima na tela a lista completa de compras, com os nomes e preços de\n",
        "# todos os itens.\n",
        "\n",
        "lista_compras={\n",
        "}\n",
        "\n",
        "quantidade=int(input(\"Informe a quantidade de produtos: \"))\n",
        "\n",
        "for i in range(len(lista_compras)+1,len(lista_compras) + quantidade + 1):\n",
        "  produto=input(f\"Informe o nome do produto {i}: \")\n",
        "  preco=float(input(f\"Informe o preço do produto {i}: \"))\n",
        "  lista_compras[i] = {\"Produto\":produto,\"Preço\":preco}\n",
        "\n",
        "lista_compras"
      ],
      "metadata": {
        "id": "OGnIOzHPZNJi"
      },
      "execution_count": null,
      "outputs": []
    }
  ]
}